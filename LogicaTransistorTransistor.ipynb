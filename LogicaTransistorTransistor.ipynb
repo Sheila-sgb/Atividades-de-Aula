{
  "nbformat": 4,
  "nbformat_minor": 0,
  "metadata": {
    "colab": {
      "name": "LogicaTransistorTransistor.ipynb",
      "provenance": []
    },
    "kernelspec": {
      "name": "python3",
      "display_name": "Python 3"
    },
    "language_info": {
      "name": "python"
    }
  },
  "cells": [
    {
      "cell_type": "markdown",
      "metadata": {
        "id": "fIwM_hUvNTsx"
      },
      "source": [
        "Atividade Lógica Transistor Transistor (TTL) - Processos Estocásticos\n",
        "Prof. Dr. Marcos Maruo\n",
        "Aluna: Sheila - 201810759"
      ]
    },
    {
      "cell_type": "code",
      "metadata": {
        "id": "UIvtMDZuK-6_"
      },
      "source": [
        "# Pacotes: para operações matemáticas; e geração de números aleatórios\n",
        "import numpy as np\n",
        "import random"
      ],
      "execution_count": 8,
      "outputs": []
    },
    {
      "cell_type": "code",
      "metadata": {
        "colab": {
          "base_uri": "https://localhost:8080/"
        },
        "id": "BpcQmA8tLMmT",
        "outputId": "3fac46ed-678c-4bcb-fb54-34073358342e"
      },
      "source": [
        "#Gerar uma lista de valores da faixa de ruído\n",
        "def f_ruido():\n",
        "#valores com espaçamento uniforme:\n",
        "    faixa = np.arange(-1.200, 1.200001, 0.00001)\n",
        "    Tensaosomas = np.zeros(3)\n",
        "# Irá analisar as operações\n",
        "    for op in range(10):\n",
        "      for op in range(10000):    \n",
        "        a = random.randint(0, 240000)\n",
        "        t = faixa[a]\n",
        "#Valores do conjunto de tensões geradas\n",
        "        tensao = [0, 3]\n",
        "#Organizando os valores de tensão\n",
        "        random.shuffle(tensao)\n",
        "        b = tensao[0]\n",
        "        Tfaixa = t + b \n",
        "#Condição para receber bit zero\n",
        "        if Tfaixa > 0.8 and Tfaixa < 2:\n",
        "            Tensaosomas [2] +=1\n",
        "    medval = Tensaosomas[2] /10\n",
        "#erro devido ao ruído:\n",
        "    Eruido = (medval)/10000\n",
        "    print( \"O valor do erro eh:\", Eruido)\n",
        "    print( \"O valor do erro em % eh:\", Eruido*100)\n",
        "f_ruido()"
      ],
      "execution_count": 56,
      "outputs": [
        {
          "output_type": "stream",
          "text": [
            "O valor do erro eh: 0.12519\n",
            "O valor do erro em % eh: 12.519\n"
          ],
          "name": "stdout"
        }
      ]
    },
    {
      "cell_type": "code",
      "metadata": {
        "id": "nC4kzn3NafMS"
      },
      "source": [
        ""
      ],
      "execution_count": null,
      "outputs": []
    }
  ]
}