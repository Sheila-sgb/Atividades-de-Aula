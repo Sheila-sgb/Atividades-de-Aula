{
  "nbformat": 4,
  "nbformat_minor": 0,
  "metadata": {
    "colab": {
      "name": "Atividade 1 - 3 Dados.ipynb",
      "provenance": []
    },
    "kernelspec": {
      "name": "python3",
      "display_name": "Python 3"
    },
    "language_info": {
      "name": "python"
    }
  },
  "cells": [
    {
      "cell_type": "markdown",
      "metadata": {
        "id": "e2L9utFpK4C0"
      },
      "source": [
        "#  Atividade 1 - Processos Estocásticos \n",
        "#  Prof. Dr. Marcos Maruo\n",
        "#  Aluna: Sheila - 201810759"
      ]
    },
    {
      "cell_type": "code",
      "metadata": {
        "id": "ArNulq2GLWp8"
      },
      "source": [
        "# pacotes: para operações matemáticas; visualização de dados e geração de núm aleatórios\n",
        "\n",
        "import numpy as np\n",
        "import matplotlib.pyplot as plt\n",
        "import random \n",
        "\n"
      ],
      "execution_count": 50,
      "outputs": []
    },
    {
      "cell_type": "code",
      "metadata": {
        "id": "5fgifD-zJ0Xn",
        "colab": {
          "base_uri": "https://localhost:8080/"
        },
        "outputId": "eb4f0048-d508-403c-a899-ba6353e8e1ce"
      },
      "source": [
        "# 1 Descreva um espaço amostral adequado para o experimento\n",
        "\n",
        "faces = 6\n",
        "\n",
        "amostral_dados = faces * faces * faces\n",
        "\n",
        "amostral_s= np.zeros((amostral_dados,3))\n",
        "\n",
        "#para montar uma matriz 1x3 com 216 casos\n",
        "\n",
        "for a in range(1,faces+1):\n",
        "  for b in range(1,faces+1):\n",
        "    for c in range(1,faces+1):\n",
        "      amostral_s[(a-1)*faces**2 + (b-1)*faces + (c-1),0] = a\n",
        "      amostral_s[(a-1)*faces**2 + (b-1)*faces + (c-1),1] = b\n",
        "      amostral_s[(a-1)*faces**2 + (b-1)*faces + (c-1),2] = c\n",
        "print(amostral_s)\n"
      ],
      "execution_count": 51,
      "outputs": [
        {
          "output_type": "stream",
          "text": [
            "[[1. 1. 1.]\n",
            " [1. 1. 2.]\n",
            " [1. 1. 3.]\n",
            " [1. 1. 4.]\n",
            " [1. 1. 5.]\n",
            " [1. 1. 6.]\n",
            " [1. 2. 1.]\n",
            " [1. 2. 2.]\n",
            " [1. 2. 3.]\n",
            " [1. 2. 4.]\n",
            " [1. 2. 5.]\n",
            " [1. 2. 6.]\n",
            " [1. 3. 1.]\n",
            " [1. 3. 2.]\n",
            " [1. 3. 3.]\n",
            " [1. 3. 4.]\n",
            " [1. 3. 5.]\n",
            " [1. 3. 6.]\n",
            " [1. 4. 1.]\n",
            " [1. 4. 2.]\n",
            " [1. 4. 3.]\n",
            " [1. 4. 4.]\n",
            " [1. 4. 5.]\n",
            " [1. 4. 6.]\n",
            " [1. 5. 1.]\n",
            " [1. 5. 2.]\n",
            " [1. 5. 3.]\n",
            " [1. 5. 4.]\n",
            " [1. 5. 5.]\n",
            " [1. 5. 6.]\n",
            " [1. 6. 1.]\n",
            " [1. 6. 2.]\n",
            " [1. 6. 3.]\n",
            " [1. 6. 4.]\n",
            " [1. 6. 5.]\n",
            " [1. 6. 6.]\n",
            " [2. 1. 1.]\n",
            " [2. 1. 2.]\n",
            " [2. 1. 3.]\n",
            " [2. 1. 4.]\n",
            " [2. 1. 5.]\n",
            " [2. 1. 6.]\n",
            " [2. 2. 1.]\n",
            " [2. 2. 2.]\n",
            " [2. 2. 3.]\n",
            " [2. 2. 4.]\n",
            " [2. 2. 5.]\n",
            " [2. 2. 6.]\n",
            " [2. 3. 1.]\n",
            " [2. 3. 2.]\n",
            " [2. 3. 3.]\n",
            " [2. 3. 4.]\n",
            " [2. 3. 5.]\n",
            " [2. 3. 6.]\n",
            " [2. 4. 1.]\n",
            " [2. 4. 2.]\n",
            " [2. 4. 3.]\n",
            " [2. 4. 4.]\n",
            " [2. 4. 5.]\n",
            " [2. 4. 6.]\n",
            " [2. 5. 1.]\n",
            " [2. 5. 2.]\n",
            " [2. 5. 3.]\n",
            " [2. 5. 4.]\n",
            " [2. 5. 5.]\n",
            " [2. 5. 6.]\n",
            " [2. 6. 1.]\n",
            " [2. 6. 2.]\n",
            " [2. 6. 3.]\n",
            " [2. 6. 4.]\n",
            " [2. 6. 5.]\n",
            " [2. 6. 6.]\n",
            " [3. 1. 1.]\n",
            " [3. 1. 2.]\n",
            " [3. 1. 3.]\n",
            " [3. 1. 4.]\n",
            " [3. 1. 5.]\n",
            " [3. 1. 6.]\n",
            " [3. 2. 1.]\n",
            " [3. 2. 2.]\n",
            " [3. 2. 3.]\n",
            " [3. 2. 4.]\n",
            " [3. 2. 5.]\n",
            " [3. 2. 6.]\n",
            " [3. 3. 1.]\n",
            " [3. 3. 2.]\n",
            " [3. 3. 3.]\n",
            " [3. 3. 4.]\n",
            " [3. 3. 5.]\n",
            " [3. 3. 6.]\n",
            " [3. 4. 1.]\n",
            " [3. 4. 2.]\n",
            " [3. 4. 3.]\n",
            " [3. 4. 4.]\n",
            " [3. 4. 5.]\n",
            " [3. 4. 6.]\n",
            " [3. 5. 1.]\n",
            " [3. 5. 2.]\n",
            " [3. 5. 3.]\n",
            " [3. 5. 4.]\n",
            " [3. 5. 5.]\n",
            " [3. 5. 6.]\n",
            " [3. 6. 1.]\n",
            " [3. 6. 2.]\n",
            " [3. 6. 3.]\n",
            " [3. 6. 4.]\n",
            " [3. 6. 5.]\n",
            " [3. 6. 6.]\n",
            " [4. 1. 1.]\n",
            " [4. 1. 2.]\n",
            " [4. 1. 3.]\n",
            " [4. 1. 4.]\n",
            " [4. 1. 5.]\n",
            " [4. 1. 6.]\n",
            " [4. 2. 1.]\n",
            " [4. 2. 2.]\n",
            " [4. 2. 3.]\n",
            " [4. 2. 4.]\n",
            " [4. 2. 5.]\n",
            " [4. 2. 6.]\n",
            " [4. 3. 1.]\n",
            " [4. 3. 2.]\n",
            " [4. 3. 3.]\n",
            " [4. 3. 4.]\n",
            " [4. 3. 5.]\n",
            " [4. 3. 6.]\n",
            " [4. 4. 1.]\n",
            " [4. 4. 2.]\n",
            " [4. 4. 3.]\n",
            " [4. 4. 4.]\n",
            " [4. 4. 5.]\n",
            " [4. 4. 6.]\n",
            " [4. 5. 1.]\n",
            " [4. 5. 2.]\n",
            " [4. 5. 3.]\n",
            " [4. 5. 4.]\n",
            " [4. 5. 5.]\n",
            " [4. 5. 6.]\n",
            " [4. 6. 1.]\n",
            " [4. 6. 2.]\n",
            " [4. 6. 3.]\n",
            " [4. 6. 4.]\n",
            " [4. 6. 5.]\n",
            " [4. 6. 6.]\n",
            " [5. 1. 1.]\n",
            " [5. 1. 2.]\n",
            " [5. 1. 3.]\n",
            " [5. 1. 4.]\n",
            " [5. 1. 5.]\n",
            " [5. 1. 6.]\n",
            " [5. 2. 1.]\n",
            " [5. 2. 2.]\n",
            " [5. 2. 3.]\n",
            " [5. 2. 4.]\n",
            " [5. 2. 5.]\n",
            " [5. 2. 6.]\n",
            " [5. 3. 1.]\n",
            " [5. 3. 2.]\n",
            " [5. 3. 3.]\n",
            " [5. 3. 4.]\n",
            " [5. 3. 5.]\n",
            " [5. 3. 6.]\n",
            " [5. 4. 1.]\n",
            " [5. 4. 2.]\n",
            " [5. 4. 3.]\n",
            " [5. 4. 4.]\n",
            " [5. 4. 5.]\n",
            " [5. 4. 6.]\n",
            " [5. 5. 1.]\n",
            " [5. 5. 2.]\n",
            " [5. 5. 3.]\n",
            " [5. 5. 4.]\n",
            " [5. 5. 5.]\n",
            " [5. 5. 6.]\n",
            " [5. 6. 1.]\n",
            " [5. 6. 2.]\n",
            " [5. 6. 3.]\n",
            " [5. 6. 4.]\n",
            " [5. 6. 5.]\n",
            " [5. 6. 6.]\n",
            " [6. 1. 1.]\n",
            " [6. 1. 2.]\n",
            " [6. 1. 3.]\n",
            " [6. 1. 4.]\n",
            " [6. 1. 5.]\n",
            " [6. 1. 6.]\n",
            " [6. 2. 1.]\n",
            " [6. 2. 2.]\n",
            " [6. 2. 3.]\n",
            " [6. 2. 4.]\n",
            " [6. 2. 5.]\n",
            " [6. 2. 6.]\n",
            " [6. 3. 1.]\n",
            " [6. 3. 2.]\n",
            " [6. 3. 3.]\n",
            " [6. 3. 4.]\n",
            " [6. 3. 5.]\n",
            " [6. 3. 6.]\n",
            " [6. 4. 1.]\n",
            " [6. 4. 2.]\n",
            " [6. 4. 3.]\n",
            " [6. 4. 4.]\n",
            " [6. 4. 5.]\n",
            " [6. 4. 6.]\n",
            " [6. 5. 1.]\n",
            " [6. 5. 2.]\n",
            " [6. 5. 3.]\n",
            " [6. 5. 4.]\n",
            " [6. 5. 5.]\n",
            " [6. 5. 6.]\n",
            " [6. 6. 1.]\n",
            " [6. 6. 2.]\n",
            " [6. 6. 3.]\n",
            " [6. 6. 4.]\n",
            " [6. 6. 5.]\n",
            " [6. 6. 6.]]\n"
          ],
          "name": "stdout"
        }
      ]
    },
    {
      "cell_type": "code",
      "metadata": {
        "colab": {
          "base_uri": "https://localhost:8080/"
        },
        "id": "-cEaAb0sG1n7",
        "outputId": "ce93951c-9c50-4de3-8ad6-6fadb5b3be86"
      },
      "source": [
        "# 2 A depender do espaço amostral escolhido, descreva o espaço de eventos associados aos eventos \n",
        "#\"A soma das faces é x\" em que x é um número inteiro entre 3 e 18\n",
        "\n",
        "#a soma das três colunas (3-18), do tipo inteiro:\n",
        "sum_faces = np.sum(amostral_s, axis=1, dtype=int)\n",
        "print(sum_faces)\n",
        "\n",
        "\n",
        "\n"
      ],
      "execution_count": 52,
      "outputs": [
        {
          "output_type": "stream",
          "text": [
            "[ 3  4  5  6  7  8  4  5  6  7  8  9  5  6  7  8  9 10  6  7  8  9 10 11\n",
            "  7  8  9 10 11 12  8  9 10 11 12 13  4  5  6  7  8  9  5  6  7  8  9 10\n",
            "  6  7  8  9 10 11  7  8  9 10 11 12  8  9 10 11 12 13  9 10 11 12 13 14\n",
            "  5  6  7  8  9 10  6  7  8  9 10 11  7  8  9 10 11 12  8  9 10 11 12 13\n",
            "  9 10 11 12 13 14 10 11 12 13 14 15  6  7  8  9 10 11  7  8  9 10 11 12\n",
            "  8  9 10 11 12 13  9 10 11 12 13 14 10 11 12 13 14 15 11 12 13 14 15 16\n",
            "  7  8  9 10 11 12  8  9 10 11 12 13  9 10 11 12 13 14 10 11 12 13 14 15\n",
            " 11 12 13 14 15 16 12 13 14 15 16 17  8  9 10 11 12 13  9 10 11 12 13 14\n",
            " 10 11 12 13 14 15 11 12 13 14 15 16 12 13 14 15 16 17 13 14 15 16 17 18]\n"
          ],
          "name": "stdout"
        }
      ]
    },
    {
      "cell_type": "code",
      "metadata": {
        "colab": {
          "base_uri": "https://localhost:8080/",
          "height": 279
        },
        "id": "fjA9MGb6UeJT",
        "outputId": "6e747e36-3588-4959-bc54-c3407f390723"
      },
      "source": [
        "# 3 Associe probabilidades iguais para cada resultado do experimento. \n",
        "# Determine as probabilidades de cada evento determinado no item anterior;\n",
        "\n",
        "sum_facesProb = np.zeros(3*faces+1)\n",
        "\n",
        "for i in range(len(sum_faces)):\n",
        "         sum_facesProb[sum_faces[i]] = sum_facesProb[sum_faces[i]] +1  \n",
        "         sum_facesProb = sum_facesProb/(faces**3)\n",
        "\n",
        "#gráfico:\n",
        "plt.stem( range(len(sum_facesProb)),sum_facesProb, use_line_collection=True)\n",
        "plt.xlabel('Soma das Faces')\n",
        "plt.ylabel('Probabilidade Soma das Faces')\n",
        "plt.xticks(range(len(sum_facesProb)))\n",
        "plt.grid('both')\n",
        "\n",
        "\n"
      ],
      "execution_count": 61,
      "outputs": [
        {
          "output_type": "display_data",
          "data": {
            "image/png": "[encoded data removed]",
            "text/plain": [
              "<Figure size 432x288 with 1 Axes>"
            ]
          },
          "metadata": {
            "tags": [],
            "needs_background": "light"
          }
        }
      ]
    },
    {
      "cell_type": "code",
      "metadata": {
        "colab": {
          "base_uri": "https://localhost:8080/",
          "height": 279
        },
        "id": "nIyaOOEhj4fA",
        "outputId": "1eb3edd0-66ba-4420-e588-68ed337519b2"
      },
      "source": [
        "# 4 Simule 50.000 experimentos aleatórios e produza um histograma da soma das faces encontradas para os experimentos.\n",
        "# Compare o resultado da simulação com as probabilidades encontradas no item anterior.\n",
        "\n",
        "exp = 50000\n",
        "resultado = np.zeros (3*faces+1)\n",
        "\n",
        "for i in range(exp):\n",
        "\n",
        "  sum=0\n",
        "\n",
        "for j in range(3):\n",
        "    sum = sum + random.randint(1,faces)\n",
        "    resultado[sum] = resultado[sum] +1\n",
        "  \n",
        "    resultado = resultado/exp\n",
        "\n",
        "plt.stem( range(len(sum_facesProb)),sum_facesProb, use_line_collection = True)\n",
        "plt.scatter( range(len(sum_facesProb)),resultado, c='r')\n",
        "plt.xlabel('Soma das Faces')\n",
        "plt.ylabel('Probabilidade Soma das Faces')\n",
        "plt.xticks(range(len(sum_facesProb)))\n",
        "plt.grid('both')\n",
        "\n",
        "\n",
        "\n",
        "\n"
      ],
      "execution_count": 60,
      "outputs": [
        {
          "output_type": "display_data",
          "data": {
            "image/png": "[encoded data removed]",
            "text/plain": [
              "<Figure size 432x288 with 1 Axes>"
            ]
          },
          "metadata": {
            "tags": [],
            "needs_background": "light"
          }
        }
      ]
    }
  ]
}